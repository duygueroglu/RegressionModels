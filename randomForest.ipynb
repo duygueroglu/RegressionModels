{
 "metadata": {
  "language_info": {
   "codemirror_mode": {
    "name": "ipython",
    "version": 3
   },
   "file_extension": ".py",
   "mimetype": "text/x-python",
   "name": "python",
   "nbconvert_exporter": "python",
   "pygments_lexer": "ipython3",
   "version": "3.7.6-final"
  },
  "orig_nbformat": 2,
  "kernelspec": {
   "name": "python3",
   "display_name": "Python 3.7.6 32-bit (conda)",
   "metadata": {
    "interpreter": {
     "hash": "0ed80a6a5c705240c5e8129656a9fc38e741ac0be2175fca797d94857fcf8798"
    }
   }
  }
 },
 "nbformat": 4,
 "nbformat_minor": 2,
 "cells": [
  {
   "cell_type": "code",
   "execution_count": 1,
   "metadata": {},
   "outputs": [],
   "source": [
    "import numpy as np \n",
    "import pandas as pd \n",
    "import matplotlib.pyplot as plt \n",
    "from sklearn.ensemble import RandomForestRegressor"
   ]
  },
  {
   "cell_type": "code",
   "execution_count": 2,
   "metadata": {},
   "outputs": [],
   "source": [
    "data = pd.read_csv(\"positions.csv\")\n",
    "level = data.iloc[:,1].values.reshape(-1,1)\n",
    "salary = data.iloc[:,2].values"
   ]
  },
  {
   "cell_type": "code",
   "execution_count": 14,
   "metadata": {},
   "outputs": [
    {
     "output_type": "stream",
     "name": "stdout",
     "text": [
      "[210000.]\n"
     ]
    }
   ],
   "source": [
    "regression = RandomForestRegressor(n_estimators=10, random_state=0) #n_estimators-->how many decision tree will you run, random_state-->same algorithm is running\n",
    "regression.fit(level,salary)\n",
    "print(regression.predict([[8.3]]))"
   ]
  }
 ]
}